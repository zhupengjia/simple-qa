{
 "cells": [
  {
   "cell_type": "code",
   "execution_count": 1,
   "metadata": {},
   "outputs": [],
   "source": [
    "checkpoint = \"/home/pzhu/data/qa/squad2_model\"\n",
    "predict_file = \"data/squad2/dev-v2.0.json\"\n",
    "device = \"cuda:0\""
   ]
  },
  {
   "cell_type": "code",
   "execution_count": 2,
   "metadata": {},
   "outputs": [
    {
     "name": "stdout",
     "output_type": "stream",
     "text": [
      "loaded\n"
     ]
    }
   ],
   "source": [
    "from pytorch_transformers import XLNetForQuestionAnswering\n",
    "model = XLNetForQuestionAnswering.from_pretrained(checkpoint)\n",
    "model.to(device)\n",
    "model.eval()\n",
    "print(\"loaded\")"
   ]
  },
  {
   "cell_type": "code",
   "execution_count": 3,
   "metadata": {},
   "outputs": [],
   "source": [
    "from xlnet_qa.squad2_reader import SQuAD2Reader\n",
    "\n",
    "reader = SQuAD2Reader(is_training=False)\n",
    "examples, features, datasets = reader.squad_data(predict_file)"
   ]
  },
  {
   "cell_type": "code",
   "execution_count": 4,
   "metadata": {},
   "outputs": [],
   "source": [
    "from tqdm import tqdm\n",
    "import torch\n",
    "from torch.utils.data import SequentialSampler, DataLoader\n",
    "from xlnet_qa.utils_squad import RawResultExtended, write_predictions_extended\n",
    "\n",
    "sampler = SequentialSampler(datasets)\n",
    "dataloader = DataLoader(datasets, sampler=sampler, batch_size=1)\n",
    "\n",
    "def to_list(tensor):\n",
    "    return tensor.detach().cpu().tolist()"
   ]
  },
  {
   "cell_type": "code",
   "execution_count": 22,
   "metadata": {},
   "outputs": [],
   "source": [
    "data = tuple(t.to(device) for t in next(iter(dataloader)))\n",
    "example = examples[data[3].item()]\n",
    "feature = features[data[3].item()]"
   ]
  },
  {
   "cell_type": "code",
   "execution_count": 23,
   "metadata": {},
   "outputs": [
    {
     "name": "stdout",
     "output_type": "stream",
     "text": [
      "In what country is Normandy located?\n",
      "['The', 'Normans', '(Norman:', 'Nourmands;', 'French:', 'Normands;', 'Latin:', 'Normanni)', 'were', 'the', 'people', 'who', 'in', 'the', '10th', 'and', '11th', 'centuries', 'gave', 'their', 'name', 'to', 'Normandy,', 'a', 'region', 'in', 'France.', 'They', 'were', 'descended', 'from', 'Norse', '(\"Norman\"', 'comes', 'from', '\"Norseman\")', 'raiders', 'and', 'pirates', 'from', 'Denmark,', 'Iceland', 'and', 'Norway', 'who,', 'under', 'their', 'leader', 'Rollo,', 'agreed', 'to', 'swear', 'fealty', 'to', 'King', 'Charles', 'III', 'of', 'West', 'Francia.', 'Through', 'generations', 'of', 'assimilation', 'and', 'mixing', 'with', 'the', 'native', 'Frankish', 'and', 'Roman-Gaulish', 'populations,', 'their', 'descendants', 'would', 'gradually', 'merge', 'with', 'the', 'Carolingian-based', 'cultures', 'of', 'West', 'Francia.', 'The', 'distinct', 'cultural', 'and', 'ethnic', 'identity', 'of', 'the', 'Normans', 'emerged', 'initially', 'in', 'the', 'first', 'half', 'of', 'the', '10th', 'century,', 'and', 'it', 'continued', 'to', 'evolve', 'over', 'the', 'succeeding', 'centuries.']\n",
      "France\n",
      "26 26\n"
     ]
    }
   ],
   "source": [
    "print(example.question_text)\n",
    "print(example.doc_tokens)\n",
    "print(example.orig_answer_text)\n",
    "print(example.start_position, example.end_position)"
   ]
  },
  {
   "cell_type": "code",
   "execution_count": 26,
   "metadata": {},
   "outputs": [],
   "source": [
    "outputs = model(input_ids = data[0],\n",
    "                        attention_mask = data[1],\n",
    "                        token_type_ids = data[2],\n",
    "                        cls_index = data[4],\n",
    "                        p_mask = data[5]\n",
    "                       )"
   ]
  },
  {
   "cell_type": "code",
   "execution_count": 28,
   "metadata": {},
   "outputs": [],
   "source": [
    "unique_id = int(feature.unique_id)\n",
    "result = RawResultExtended(unique_id= unique_id,\n",
    "                            start_top_log_probs  = to_list(outputs[0][0]),\n",
    "                            start_top_index      = to_list(outputs[1][0]),\n",
    "                            end_top_log_probs    = to_list(outputs[2][0]),\n",
    "                            end_top_index        = to_list(outputs[3][0]),\n",
    "                            cls_logits           = to_list(outputs[4][0])\n",
    "                            )"
   ]
  },
  {
   "cell_type": "code",
   "execution_count": 31,
   "metadata": {},
   "outputs": [
    {
     "data": {
      "text/plain": [
       "RawResultExtended(unique_id=1000000000, start_top_log_probs=[0.00584795419126749, 0.00584795419126749, 0.005847953725606203, 0.005847953725606203, 0.005847953725606203], start_top_index=[164, 153, 47, 15, 11], end_top_log_probs=[0.005847962573170662, 0.005847966764122248, 0.0058479635044932365, 0.0058479649014770985, 0.005847963970154524, 0.005847962573170662, 0.0058479611761868, 0.0058479635044932365, 0.005847962107509375, 0.0058479611761868, 0.005847962573170662, 0.0058479611761868, 0.0058479635044932365, 0.005847962107509375, 0.0058479611761868, 0.005847959779202938, 0.0058479611761868, 0.005847960710525513, 0.005847962107509375, 0.0058479611761868, 0.005847959779202938, 0.0058479611761868, 0.005847960710525513, 0.005847959313541651, 0.0058479611761868], end_top_index=[56, 46, 64, 46, 46, 46, 51, 47, 52, 75, 42, 47, 46, 45, 52, 52, 52, 54, 51, 144, 47, 50, 52, 16, 69], cls_logits=-0.8711456656455994)"
      ]
     },
     "execution_count": 31,
     "metadata": {},
     "output_type": "execute_result"
    }
   ],
   "source": [
    "result"
   ]
  },
  {
   "cell_type": "code",
   "execution_count": 21,
   "metadata": {},
   "outputs": [
    {
     "data": {
      "text/plain": [
       "0"
      ]
     },
     "execution_count": 21,
     "metadata": {},
     "output_type": "execute_result"
    }
   ],
   "source": [
    "data[3].item()"
   ]
  },
  {
   "cell_type": "code",
   "execution_count": null,
   "metadata": {},
   "outputs": [],
   "source": []
  }
 ],
 "metadata": {
  "kernelspec": {
   "display_name": "Python 3",
   "language": "python",
   "name": "python3"
  },
  "language_info": {
   "codemirror_mode": {
    "name": "ipython",
    "version": 3
   },
   "file_extension": ".py",
   "mimetype": "text/x-python",
   "name": "python",
   "nbconvert_exporter": "python",
   "pygments_lexer": "ipython3",
   "version": "3.7.3"
  }
 },
 "nbformat": 4,
 "nbformat_minor": 2
}
